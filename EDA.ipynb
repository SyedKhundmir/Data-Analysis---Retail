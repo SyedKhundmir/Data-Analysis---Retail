{
 "cells": [
  {
   "cell_type": "code",
   "execution_count": 6,
   "id": "partial-ratio",
   "metadata": {
    "scrolled": true
   },
   "outputs": [],
   "source": [
    "# conda install numpy"
   ]
  },
  {
   "cell_type": "code",
   "execution_count": 7,
   "id": "brutal-acoustic",
   "metadata": {},
   "outputs": [],
   "source": [
    "# !pip install streamlit"
   ]
  },
  {
   "cell_type": "code",
   "execution_count": 8,
   "id": "young-observation",
   "metadata": {},
   "outputs": [],
   "source": [
    "# !pip install streamlit_pandas_profiling"
   ]
  },
  {
   "cell_type": "code",
   "execution_count": 13,
   "id": "dynamic-prototype",
   "metadata": {},
   "outputs": [],
   "source": [
    "import pandas as pd\n",
    "import numpy as np\n",
    "import streamlit as st\n",
    "from pandas_profiling import ProfileReport\n",
    "from streamlit_pandas_profiling import st_profile_report"
   ]
  },
  {
   "cell_type": "code",
   "execution_count": 14,
   "id": "weighted-return",
   "metadata": {},
   "outputs": [
    {
     "name": "stderr",
     "output_type": "stream",
     "text": [
      "2021-04-05 16:52:55.008 WARNING root: \n",
      "  \u001b[33m\u001b[1mWarning:\u001b[0m to view this Streamlit app on a browser, run it with the following\n",
      "  command:\n",
      "\n",
      "    streamlit run /opt/miniconda3/lib/python3.8/site-packages/ipykernel_launcher.py [ARGUMENTS]\n"
     ]
    },
    {
     "data": {
      "text/plain": [
       "<streamlit.delta_generator.DeltaGenerator at 0x7d7d24267190>"
      ]
     },
     "execution_count": 14,
     "metadata": {},
     "output_type": "execute_result"
    }
   ],
   "source": [
    "#Web App Title\n",
    "st.markdown('''\n",
    "# **The EDA APP**\n",
    "\n",
    "This is the **EDA App** created in Streamlit using **Pandas-Profiling** library\n",
    "\n",
    "---\n",
    "''')"
   ]
  },
  {
   "cell_type": "code",
   "execution_count": 15,
   "id": "mental-session",
   "metadata": {},
   "outputs": [],
   "source": [
    "#Upload CSV data\n",
    "with st.sidebar.header('1.Upload your CSV data'):\n",
    "    uploaded_file = st.sidebar.file_uploader(\"Upload your input csv file\",type = [\"csv\"])\n",
    "    st.sidebar.markdown(\"\"\"\n",
    "    [Example CSV input file]\n",
    "    \"\"\")"
   ]
  },
  {
   "cell_type": "code",
   "execution_count": 17,
   "id": "resident-discovery",
   "metadata": {},
   "outputs": [],
   "source": [
    "#Pandas Profiling Report\n",
    "\n",
    "if uploaded_file is not None:\n",
    "    @st.cache\n",
    "    def load_csv():\n",
    "        csv = pd.read_csv(uploaded_file)\n",
    "        return csv\n",
    "    \n",
    "    df = load_csv()\n",
    "    pr = ProfileReport(df,explorative = True)\n",
    "    st.header(\"**Input DataFrame**\")\n",
    "    st.write(df)\n",
    "    st.write('---')\n",
    "    st.header('***Pandas Profiling Report***')\n",
    "    st_profile_report(pr)\n",
    "else:\n",
    "    st.info('Awaiting for CSV file to upload.')\n",
    "    if st.button('Press to use Example Dataset'):\n",
    "        #Example Data\n",
    "        @st.cache\n",
    "        def load_data():\n",
    "            a = pd.DataFrame(\n",
    "            {\n",
    "                'Rno':[101,102,103,104,105],\n",
    "                'Name':['Bob','Zack','Synder','Bennt','Drake'],\n",
    "                'Marks':[98,34,55,76,45]\n",
    "            })\n",
    "            return a\n",
    "        df = load_data()\n",
    "        pr = ProfileReport(df,explorative = True)\n",
    "        st.header('**Input DataFrame')\n",
    "        st.write(df)\n",
    "        st.write('---')\n",
    "        st.header('***Pandas Profiling Report***')\n",
    "        st_profile_report(pr)"
   ]
  },
  {
   "cell_type": "code",
   "execution_count": null,
   "id": "seasonal-cincinnati",
   "metadata": {},
   "outputs": [],
   "source": []
  }
 ],
 "metadata": {
  "kernelspec": {
   "display_name": "Python 3",
   "language": "python",
   "name": "python3"
  },
  "language_info": {
   "codemirror_mode": {
    "name": "ipython",
    "version": 3
   },
   "file_extension": ".py",
   "mimetype": "text/x-python",
   "name": "python",
   "nbconvert_exporter": "python",
   "pygments_lexer": "ipython3",
   "version": "3.8.5"
  }
 },
 "nbformat": 4,
 "nbformat_minor": 5
}
